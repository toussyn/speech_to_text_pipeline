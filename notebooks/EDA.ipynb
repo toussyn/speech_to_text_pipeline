{
 "cells": [
  {
   "cell_type": "code",
   "execution_count": 47,
   "id": "ce355789-e09a-4cef-b115-713013f6d61c",
   "metadata": {},
   "outputs": [
    {
     "name": "stdout",
     "output_type": "stream",
     "text": [
      "total 47M\n",
      " 13K -rwxrwxrwx 1 yishak_tadele yishak_tadele  13K Oct  4 17:10 Untitled.ipynb\n",
      " 47M -rwxrwxrwx 1 yishak_tadele yishak_tadele  47M Oct  4 17:14 data.csv\n",
      "140K -rwxrwxrwx 1 yishak_tadele yishak_tadele 140K Oct  4 16:51 data.zip\n"
     ]
    }
   ],
   "source": [
    "!ls -lsh"
   ]
  },
  {
   "cell_type": "code",
   "execution_count": 63,
   "id": "d04efbd7-5ab7-4cc2-94de-051b15b82daa",
   "metadata": {},
   "outputs": [
    {
     "name": "stdout",
     "output_type": "stream",
     "text": [
      "  % Total    % Received % Xferd  Average Speed   Time    Time     Time  Current\n",
      "                                 Dload  Upload   Total   Spent    Left  Speed\n",
      "  0     0    0     0    0     0      0      0 --:--:-- --:--:-- --:--:--     0\n",
      "100 46.0M    0 46.0M    0     0  18.7M      0 --:--:--  0:00:02 --:--:-- 22.4M\n"
     ]
    }
   ],
   "source": [
    "!curl -L https://github.com/IsraelAbebe/An-Amharic-News-Text-classification-Dataset/archive/refs/heads/main.zip --output amharic.zip"
   ]
  },
  {
   "cell_type": "code",
   "execution_count": 65,
   "id": "252420ef-720c-491c-9afb-75e1ecd86043",
   "metadata": {},
   "outputs": [
    {
     "name": "stdout",
     "output_type": "stream",
     "text": [
      "Archive:  amharic.zip\n",
      "a831bfdafc6189913088703499d8db90bc698abc\n",
      "   creating: An-Amharic-News-Text-classification-Dataset-main/\n",
      "  inflating: An-Amharic-News-Text-classification-Dataset-main/.gitignore  \n",
      "  inflating: An-Amharic-News-Text-classification-Dataset-main/Amharic-News-Text-classification-Baseline.ipynb  \n",
      "  inflating: An-Amharic-News-Text-classification-Dataset-main/LICENSE  \n",
      "  inflating: An-Amharic-News-Text-classification-Dataset-main/README.md  \n",
      "   creating: An-Amharic-News-Text-classification-Dataset-main/data/\n",
      " extracting: An-Amharic-News-Text-classification-Dataset-main/data/Amharic News Dataset.zip  \n"
     ]
    }
   ],
   "source": [
    "! unzip amharic.zip"
   ]
  },
  {
   "cell_type": "code",
   "execution_count": 73,
   "id": "9fde0848-5dad-4e0f-a08f-a43a372b376a",
   "metadata": {},
   "outputs": [
    {
     "name": "stdout",
     "output_type": "stream",
     "text": [
      "Archive:  Amharic News Dataset.zip\n",
      "caution: filename not matched:  --output\n",
      "caution: filename not matched:  data.zip\n"
     ]
    }
   ],
   "source": [
    "!unzip Amharic\\ News\\ Dataset.zip "
   ]
  },
  {
   "cell_type": "code",
   "execution_count": 83,
   "id": "112014dc-d70f-422f-8c50-d78d93f14411",
   "metadata": {},
   "outputs": [
    {
     "name": "stdout",
     "output_type": "stream",
     "text": [
      "\u001b[0m\u001b[01;32mUntitled.ipynb\u001b[0m*  \u001b[01;32mamharic.zip\u001b[0m*  \u001b[01;32mdata.csv\u001b[0m*\n"
     ]
    }
   ],
   "source": [
    "ls"
   ]
  },
  {
   "cell_type": "code",
   "execution_count": 21,
   "id": "58cc4027-5ab6-4801-992e-6003ae77e710",
   "metadata": {},
   "outputs": [],
   "source": [
    "%matplotlib inline\n",
    "\n",
    "import matplotlib\n",
    "import pandas as pd\n",
    "import numpy as np\n",
    "from sklearn.utils import shuffle\n",
    "\n",
    "np.random.seed(42) "
   ]
  },
  {
   "cell_type": "markdown",
   "id": "09b346ce-0d1c-421b-bde2-40c6667778b4",
   "metadata": {},
   "source": [
    "# Exploratory Data Analysis"
   ]
  },
  {
   "cell_type": "code",
   "execution_count": 39,
   "id": "e8b1393d-8dde-4707-a8ae-dd6948fa965e",
   "metadata": {},
   "outputs": [
    {
     "name": "stdout",
     "output_type": "stream",
     "text": [
      "tar: Refusing to read archive contents from terminal (missing -f option?)\n",
      "tar: Error is not recoverable: exiting now\n"
     ]
    }
   ],
   "source": [
    "!tar  data.zip"
   ]
  },
  {
   "cell_type": "code",
   "execution_count": 85,
   "id": "a0ec7651-2326-41ab-9123-b5927ed6db33",
   "metadata": {},
   "outputs": [
    {
     "data": {
      "text/html": [
       "<div>\n",
       "<style scoped>\n",
       "    .dataframe tbody tr th:only-of-type {\n",
       "        vertical-align: middle;\n",
       "    }\n",
       "\n",
       "    .dataframe tbody tr th {\n",
       "        vertical-align: top;\n",
       "    }\n",
       "\n",
       "    .dataframe thead th {\n",
       "        text-align: right;\n",
       "    }\n",
       "</style>\n",
       "<table border=\"1\" class=\"dataframe\">\n",
       "  <thead>\n",
       "    <tr style=\"text-align: right;\">\n",
       "      <th></th>\n",
       "      <th>headline</th>\n",
       "      <th>category</th>\n",
       "      <th>date</th>\n",
       "      <th>views</th>\n",
       "      <th>article</th>\n",
       "      <th>link</th>\n",
       "    </tr>\n",
       "  </thead>\n",
       "  <tbody>\n",
       "    <tr>\n",
       "      <th>44810</th>\n",
       "      <td>በመዲናዋ የጋራ መኖሪያ ቤቶችን ግንባታ ለማጠናቀቅና ለማስጀመር የ20 ቢሊ...</td>\n",
       "      <td>ፖለቲካ</td>\n",
       "      <td>September 14, 2017</td>\n",
       "      <td>Unknown</td>\n",
       "      <td>በአዲስ አበባ የተጀመሩ የጋራ መኖሪያ ቤቶችን ግንባታ ለማጠናቀቅና አዳዲስ...</td>\n",
       "      <td>https://waltainfo.com/am/29360/</td>\n",
       "    </tr>\n",
       "    <tr>\n",
       "      <th>18329</th>\n",
       "      <td>አሸንዳ፣ ሻደይ፣ አሸንድዬ፣ ሶለል፣ ማሪያና ዓይኒ ዋሪ በዓል በዩኔስኮ አ...</td>\n",
       "      <td>ሀገር አቀፍ ዜና</td>\n",
       "      <td>Jan 8, 2020</td>\n",
       "      <td>387</td>\n",
       "      <td>አዲስ አበባ፣ ታህሳስ 29፣ 2012 (ኤፍ.ቢ.ሲ) የአሸንዳ፣ ሻደይ፣ አሸ...</td>\n",
       "      <td>https://www.fanabc.com/%e1%8b%a8%e1%8a%a0%e1%8...</td>\n",
       "    </tr>\n",
       "    <tr>\n",
       "      <th>17644</th>\n",
       "      <td>ግምታዊ ዋጋቸው ከ31 ነጥብ 6 ሚሊየን ብር በላይ የሆኑ የኮንትሮባንድ ዕ...</td>\n",
       "      <td>ሀገር አቀፍ ዜና</td>\n",
       "      <td>Mar 4, 2020</td>\n",
       "      <td>634</td>\n",
       "      <td>አዲስ አበባ ፣ የካቲት 25 ፣ 2012 (ኤፍ ቢ ሲ) ባለፉት አምስት ቀና...</td>\n",
       "      <td>https://www.fanabc.com/%e1%8c%8d%e1%88%9d%e1%8...</td>\n",
       "    </tr>\n",
       "    <tr>\n",
       "      <th>32773</th>\n",
       "      <td>​ባምላክ ተሰማ የዓለም ዋንጫ ለመምራት እጩ ከሆኑ ዳኞች ውስጥ ተካተተ</td>\n",
       "      <td>ስፖርት</td>\n",
       "      <td>November 19, 2017</td>\n",
       "      <td>Unknown</td>\n",
       "      <td>ሩሲያ በ2018 ለምታስተናግደው የዓለም ዋንጫ ፊፋ ጨዋታዎችን ሊመሩ የሚች...</td>\n",
       "      <td>https://soccerethiopia.net/football/31318</td>\n",
       "    </tr>\n",
       "    <tr>\n",
       "      <th>4139</th>\n",
       "      <td>“መንገድ ለሰው” መርሐ ግብር በየሳምንቱ እንደሚካሄድ ተገለፀ</td>\n",
       "      <td>ሀገር አቀፍ ዜና</td>\n",
       "      <td>August 7, 2019</td>\n",
       "      <td>32</td>\n",
       "      <td>አዲስ አበባ፤- “መንገድ ለሰው” በሚል በአዲስ አበባ ከተማ ሲካሄድ የነ...</td>\n",
       "      <td>https://www.press.et/Ama/?p=15606</td>\n",
       "    </tr>\n",
       "  </tbody>\n",
       "</table>\n",
       "</div>"
      ],
      "text/plain": [
       "                                                headline    category  \\\n",
       "44810  በመዲናዋ የጋራ መኖሪያ ቤቶችን ግንባታ ለማጠናቀቅና ለማስጀመር የ20 ቢሊ...        ፖለቲካ   \n",
       "18329  አሸንዳ፣ ሻደይ፣ አሸንድዬ፣ ሶለል፣ ማሪያና ዓይኒ ዋሪ በዓል በዩኔስኮ አ...  ሀገር አቀፍ ዜና   \n",
       "17644  ግምታዊ ዋጋቸው ከ31 ነጥብ 6 ሚሊየን ብር በላይ የሆኑ የኮንትሮባንድ ዕ...  ሀገር አቀፍ ዜና   \n",
       "32773       ​ባምላክ ተሰማ የዓለም ዋንጫ ለመምራት እጩ ከሆኑ ዳኞች ውስጥ ተካተተ        ስፖርት   \n",
       "4139              “መንገድ ለሰው” መርሐ ግብር በየሳምንቱ እንደሚካሄድ ተገለፀ  ሀገር አቀፍ ዜና   \n",
       "\n",
       "                     date    views  \\\n",
       "44810  September 14, 2017  Unknown   \n",
       "18329         Jan 8, 2020      387   \n",
       "17644         Mar 4, 2020      634   \n",
       "32773   November 19, 2017  Unknown   \n",
       "4139       August 7, 2019       32   \n",
       "\n",
       "                                                 article  \\\n",
       "44810  በአዲስ አበባ የተጀመሩ የጋራ መኖሪያ ቤቶችን ግንባታ ለማጠናቀቅና አዳዲስ...   \n",
       "18329  አዲስ አበባ፣ ታህሳስ 29፣ 2012 (ኤፍ.ቢ.ሲ) የአሸንዳ፣ ሻደይ፣ አሸ...   \n",
       "17644  አዲስ አበባ ፣ የካቲት 25 ፣ 2012 (ኤፍ ቢ ሲ) ባለፉት አምስት ቀና...   \n",
       "32773  ሩሲያ በ2018 ለምታስተናግደው የዓለም ዋንጫ ፊፋ ጨዋታዎችን ሊመሩ የሚች...   \n",
       "4139    አዲስ አበባ፤- “መንገድ ለሰው” በሚል በአዲስ አበባ ከተማ ሲካሄድ የነ...   \n",
       "\n",
       "                                                    link  \n",
       "44810                    https://waltainfo.com/am/29360/  \n",
       "18329  https://www.fanabc.com/%e1%8b%a8%e1%8a%a0%e1%8...  \n",
       "17644  https://www.fanabc.com/%e1%8c%8d%e1%88%9d%e1%8...  \n",
       "32773          https://soccerethiopia.net/football/31318  \n",
       "4139                   https://www.press.et/Ama/?p=15606  "
      ]
     },
     "execution_count": 85,
     "metadata": {},
     "output_type": "execute_result"
    }
   ],
   "source": [
    "data = pd.read_csv('data.csv')\n",
    "\n",
    "data = shuffle(data)\n",
    "data.head()"
   ]
  },
  {
   "cell_type": "code",
   "execution_count": 86,
   "id": "d3f0ceeb-f230-4ee9-ae54-b62862a20295",
   "metadata": {},
   "outputs": [
    {
     "name": "stdout",
     "output_type": "stream",
     "text": [
      "<class 'pandas.core.frame.DataFrame'>\n",
      "Int64Index: 51483 entries, 44810 to 15795\n",
      "Data columns (total 6 columns):\n",
      " #   Column    Non-Null Count  Dtype \n",
      "---  ------    --------------  ----- \n",
      " 0   headline  51470 non-null  object\n",
      " 1   category  51482 non-null  object\n",
      " 2   date      51483 non-null  object\n",
      " 3   views     51483 non-null  object\n",
      " 4   article   51483 non-null  object\n",
      " 5   link      51483 non-null  object\n",
      "dtypes: object(6)\n",
      "memory usage: 2.7+ MB\n"
     ]
    }
   ],
   "source": [
    "data.info()"
   ]
  },
  {
   "cell_type": "code",
   "execution_count": 90,
   "id": "236cb64e-b848-4a6e-8fc5-65f618344d0a",
   "metadata": {},
   "outputs": [
    {
     "data": {
      "text/plain": [
       "array(['ፖለቲካ', 'ሀገር አቀፍ ዜና', 'ስፖርት', 'ዓለም አቀፍ ዜና', 'ቢዝነስ', 'መዝናኛ', nan],\n",
       "      dtype=object)"
      ]
     },
     "execution_count": 90,
     "metadata": {},
     "output_type": "execute_result"
    }
   ],
   "source": [
    "data.category.unique()"
   ]
  },
  {
   "cell_type": "code",
   "execution_count": 93,
   "id": "7a6db127-1ffa-4f52-8e9b-c5f171520d6d",
   "metadata": {},
   "outputs": [
    {
     "data": {
      "text/plain": [
       "headline    13\n",
       "category     1\n",
       "date         0\n",
       "views        0\n",
       "article      0\n",
       "link         0\n",
       "dtype: int64"
      ]
     },
     "execution_count": 93,
     "metadata": {},
     "output_type": "execute_result"
    }
   ],
   "source": [
    "data.isnull().sum()"
   ]
  },
  {
   "cell_type": "code",
   "execution_count": 94,
   "id": "9a990210-452b-453c-b3c9-47baa13cdc15",
   "metadata": {},
   "outputs": [
    {
     "data": {
      "text/plain": [
       "(50778, (51483, 6))"
      ]
     },
     "execution_count": 94,
     "metadata": {},
     "output_type": "execute_result"
    }
   ],
   "source": [
    "data.link.nunique(), data.shape"
   ]
  },
  {
   "cell_type": "code",
   "execution_count": 95,
   "id": "dc24b79e-9b38-4ad0-8f80-2fe43fdc0779",
   "metadata": {},
   "outputs": [
    {
     "data": {
      "text/html": [
       "<div>\n",
       "<style scoped>\n",
       "    .dataframe tbody tr th:only-of-type {\n",
       "        vertical-align: middle;\n",
       "    }\n",
       "\n",
       "    .dataframe tbody tr th {\n",
       "        vertical-align: top;\n",
       "    }\n",
       "\n",
       "    .dataframe thead th {\n",
       "        text-align: right;\n",
       "    }\n",
       "</style>\n",
       "<table border=\"1\" class=\"dataframe\">\n",
       "  <thead>\n",
       "    <tr style=\"text-align: right;\">\n",
       "      <th></th>\n",
       "      <th>headline</th>\n",
       "      <th>category</th>\n",
       "      <th>date</th>\n",
       "      <th>views</th>\n",
       "      <th>article</th>\n",
       "      <th>link</th>\n",
       "      <th>word_len</th>\n",
       "    </tr>\n",
       "  </thead>\n",
       "  <tbody>\n",
       "    <tr>\n",
       "      <th>44810</th>\n",
       "      <td>በመዲናዋ የጋራ መኖሪያ ቤቶችን ግንባታ ለማጠናቀቅና ለማስጀመር የ20 ቢሊ...</td>\n",
       "      <td>ፖለቲካ</td>\n",
       "      <td>September 14, 2017</td>\n",
       "      <td>Unknown</td>\n",
       "      <td>በአዲስ አበባ የተጀመሩ የጋራ መኖሪያ ቤቶችን ግንባታ ለማጠናቀቅና አዳዲስ...</td>\n",
       "      <td>https://waltainfo.com/am/29360/</td>\n",
       "      <td>302</td>\n",
       "    </tr>\n",
       "    <tr>\n",
       "      <th>18329</th>\n",
       "      <td>አሸንዳ፣ ሻደይ፣ አሸንድዬ፣ ሶለል፣ ማሪያና ዓይኒ ዋሪ በዓል በዩኔስኮ አ...</td>\n",
       "      <td>ሀገር አቀፍ ዜና</td>\n",
       "      <td>Jan 8, 2020</td>\n",
       "      <td>387</td>\n",
       "      <td>አዲስ አበባ፣ ታህሳስ 29፣ 2012 (ኤፍ.ቢ.ሲ) የአሸንዳ፣ ሻደይ፣ አሸ...</td>\n",
       "      <td>https://www.fanabc.com/%e1%8b%a8%e1%8a%a0%e1%8...</td>\n",
       "      <td>165</td>\n",
       "    </tr>\n",
       "    <tr>\n",
       "      <th>17644</th>\n",
       "      <td>ግምታዊ ዋጋቸው ከ31 ነጥብ 6 ሚሊየን ብር በላይ የሆኑ የኮንትሮባንድ ዕ...</td>\n",
       "      <td>ሀገር አቀፍ ዜና</td>\n",
       "      <td>Mar 4, 2020</td>\n",
       "      <td>634</td>\n",
       "      <td>አዲስ አበባ ፣ የካቲት 25 ፣ 2012 (ኤፍ ቢ ሲ) ባለፉት አምስት ቀና...</td>\n",
       "      <td>https://www.fanabc.com/%e1%8c%8d%e1%88%9d%e1%8...</td>\n",
       "      <td>102</td>\n",
       "    </tr>\n",
       "    <tr>\n",
       "      <th>32773</th>\n",
       "      <td>​ባምላክ ተሰማ የዓለም ዋንጫ ለመምራት እጩ ከሆኑ ዳኞች ውስጥ ተካተተ</td>\n",
       "      <td>ስፖርት</td>\n",
       "      <td>November 19, 2017</td>\n",
       "      <td>Unknown</td>\n",
       "      <td>ሩሲያ በ2018 ለምታስተናግደው የዓለም ዋንጫ ፊፋ ጨዋታዎችን ሊመሩ የሚች...</td>\n",
       "      <td>https://soccerethiopia.net/football/31318</td>\n",
       "      <td>143</td>\n",
       "    </tr>\n",
       "    <tr>\n",
       "      <th>4139</th>\n",
       "      <td>“መንገድ ለሰው” መርሐ ግብር በየሳምንቱ እንደሚካሄድ ተገለፀ</td>\n",
       "      <td>ሀገር አቀፍ ዜና</td>\n",
       "      <td>August 7, 2019</td>\n",
       "      <td>32</td>\n",
       "      <td>አዲስ አበባ፤- “መንገድ ለሰው” በሚል በአዲስ አበባ ከተማ ሲካሄድ የነ...</td>\n",
       "      <td>https://www.press.et/Ama/?p=15606</td>\n",
       "      <td>193</td>\n",
       "    </tr>\n",
       "  </tbody>\n",
       "</table>\n",
       "</div>"
      ],
      "text/plain": [
       "                                                headline    category  \\\n",
       "44810  በመዲናዋ የጋራ መኖሪያ ቤቶችን ግንባታ ለማጠናቀቅና ለማስጀመር የ20 ቢሊ...        ፖለቲካ   \n",
       "18329  አሸንዳ፣ ሻደይ፣ አሸንድዬ፣ ሶለል፣ ማሪያና ዓይኒ ዋሪ በዓል በዩኔስኮ አ...  ሀገር አቀፍ ዜና   \n",
       "17644  ግምታዊ ዋጋቸው ከ31 ነጥብ 6 ሚሊየን ብር በላይ የሆኑ የኮንትሮባንድ ዕ...  ሀገር አቀፍ ዜና   \n",
       "32773       ​ባምላክ ተሰማ የዓለም ዋንጫ ለመምራት እጩ ከሆኑ ዳኞች ውስጥ ተካተተ        ስፖርት   \n",
       "4139              “መንገድ ለሰው” መርሐ ግብር በየሳምንቱ እንደሚካሄድ ተገለፀ  ሀገር አቀፍ ዜና   \n",
       "\n",
       "                     date    views  \\\n",
       "44810  September 14, 2017  Unknown   \n",
       "18329         Jan 8, 2020      387   \n",
       "17644         Mar 4, 2020      634   \n",
       "32773   November 19, 2017  Unknown   \n",
       "4139       August 7, 2019       32   \n",
       "\n",
       "                                                 article  \\\n",
       "44810  በአዲስ አበባ የተጀመሩ የጋራ መኖሪያ ቤቶችን ግንባታ ለማጠናቀቅና አዳዲስ...   \n",
       "18329  አዲስ አበባ፣ ታህሳስ 29፣ 2012 (ኤፍ.ቢ.ሲ) የአሸንዳ፣ ሻደይ፣ አሸ...   \n",
       "17644  አዲስ አበባ ፣ የካቲት 25 ፣ 2012 (ኤፍ ቢ ሲ) ባለፉት አምስት ቀና...   \n",
       "32773  ሩሲያ በ2018 ለምታስተናግደው የዓለም ዋንጫ ፊፋ ጨዋታዎችን ሊመሩ የሚች...   \n",
       "4139    አዲስ አበባ፤- “መንገድ ለሰው” በሚል በአዲስ አበባ ከተማ ሲካሄድ የነ...   \n",
       "\n",
       "                                                    link  word_len  \n",
       "44810                    https://waltainfo.com/am/29360/       302  \n",
       "18329  https://www.fanabc.com/%e1%8b%a8%e1%8a%a0%e1%8...       165  \n",
       "17644  https://www.fanabc.com/%e1%8c%8d%e1%88%9d%e1%8...       102  \n",
       "32773          https://soccerethiopia.net/football/31318       143  \n",
       "4139                   https://www.press.et/Ama/?p=15606       193  "
      ]
     },
     "execution_count": 95,
     "metadata": {},
     "output_type": "execute_result"
    }
   ],
   "source": [
    "data['word_len'] = data['article'].str.split().str.len()\n",
    "data.head()"
   ]
  },
  {
   "cell_type": "code",
   "execution_count": 96,
   "id": "5c6e0055-c43f-458c-a9a8-813f52fadcbb",
   "metadata": {},
   "outputs": [
    {
     "data": {
      "text/plain": [
       "array(['ፖለቲካ', 'ሀገር አቀፍ ዜና', 'ስፖርት', 'ዓለም አቀፍ ዜና', 'ቢዝነስ', 'መዝናኛ', nan],\n",
       "      dtype=object)"
      ]
     },
     "execution_count": 96,
     "metadata": {},
     "output_type": "execute_result"
    }
   ],
   "source": [
    "data.category.unique()"
   ]
  },
  {
   "cell_type": "code",
   "execution_count": 97,
   "id": "d7a0e33b-6766-4570-9ea3-1fcdfaf509d7",
   "metadata": {},
   "outputs": [
    {
     "data": {
      "text/html": [
       "<div>\n",
       "<style scoped>\n",
       "    .dataframe tbody tr th:only-of-type {\n",
       "        vertical-align: middle;\n",
       "    }\n",
       "\n",
       "    .dataframe tbody tr th {\n",
       "        vertical-align: top;\n",
       "    }\n",
       "\n",
       "    .dataframe thead th {\n",
       "        text-align: right;\n",
       "    }\n",
       "</style>\n",
       "<table border=\"1\" class=\"dataframe\">\n",
       "  <thead>\n",
       "    <tr style=\"text-align: right;\">\n",
       "      <th></th>\n",
       "      <th>headline</th>\n",
       "      <th>category</th>\n",
       "      <th>date</th>\n",
       "      <th>views</th>\n",
       "      <th>article</th>\n",
       "      <th>link</th>\n",
       "      <th>word_len</th>\n",
       "    </tr>\n",
       "  </thead>\n",
       "  <tbody>\n",
       "    <tr>\n",
       "      <th>44810</th>\n",
       "      <td>በመዲናዋ የጋራ መኖሪያ ቤቶችን ግንባታ ለማጠናቀቅና ለማስጀመር የ20 ቢሊ...</td>\n",
       "      <td>ፖለቲካ</td>\n",
       "      <td>September 14, 2017</td>\n",
       "      <td>Unknown</td>\n",
       "      <td>በአዲስ አበባ የተጀመሩ የጋራ መኖሪያ ቤቶችን ግንባታ ለማጠናቀቅና አዳዲስ...</td>\n",
       "      <td>https://waltainfo.com/am/29360/</td>\n",
       "      <td>302</td>\n",
       "    </tr>\n",
       "    <tr>\n",
       "      <th>22571</th>\n",
       "      <td>የኦሕዴድን ስያሜና ዓርማ ለመተካት ሐሳብ ቀረበ</td>\n",
       "      <td>ፖለቲካ</td>\n",
       "      <td>8 August 2018</td>\n",
       "      <td>Unknown</td>\n",
       "      <td>የኦሮሞ ሕዝብን የሚወክሉ ሌሎች ፓርቲዎችን በአንድነት ለማሰባሰብም ዕቅድ ...</td>\n",
       "      <td>https://www.ethiopianreporter.com/article/12372</td>\n",
       "      <td>247</td>\n",
       "    </tr>\n",
       "    <tr>\n",
       "      <th>23058</th>\n",
       "      <td>ሶማሊያ ቅሬታዋን ኢትዮጵያ ማስተባበያዋን ያስተጋቡበት የበርበራ ወደብ የዓ...</td>\n",
       "      <td>ፖለቲካ</td>\n",
       "      <td>18 March 2018</td>\n",
       "      <td>Unknown</td>\n",
       "      <td>የግዛቴ አካል ከሆነውና ራሱን ነፃ መንግሥት ብሎ ከሚጠራ አካል ጋር የተደ...</td>\n",
       "      <td>https://www.ethiopianreporter.com/article/8879</td>\n",
       "      <td>566</td>\n",
       "    </tr>\n",
       "    <tr>\n",
       "      <th>22204</th>\n",
       "      <td>በከፍተኛ የሙስና ወንጀል የተጠረጠሩት የሜቴክ ከፍተኛ ኃላፊዎች ተሳትፈውበ...</td>\n",
       "      <td>ፖለቲካ</td>\n",
       "      <td>2 December 2018</td>\n",
       "      <td>Unknown</td>\n",
       "      <td>‹‹በቀጥታ የሚመለከተንና የሚያስጠረጥረን ማስረጃ አልቀረበብንም›› ተጠርጣ...</td>\n",
       "      <td>https://www.ethiopianreporter.com/article/14054</td>\n",
       "      <td>754</td>\n",
       "    </tr>\n",
       "    <tr>\n",
       "      <th>22111</th>\n",
       "      <td>ዋና ኦዲተሩ የንግድ ባንክ ቦርድ አባልነት ሹመታቸውን አልቀበልም አሉ</td>\n",
       "      <td>ፖለቲካ</td>\n",
       "      <td>30 December 2018</td>\n",
       "      <td>Unknown</td>\n",
       "      <td>የኢትዮጵያ ንግድ ባንክ የቦርድ አባል እንዲሆኑ የተሾሙት ዋና ኦዲተር አቶ...</td>\n",
       "      <td>https://www.ethiopianreporter.com/article/14340</td>\n",
       "      <td>179</td>\n",
       "    </tr>\n",
       "  </tbody>\n",
       "</table>\n",
       "</div>"
      ],
      "text/plain": [
       "                                                headline category  \\\n",
       "44810  በመዲናዋ የጋራ መኖሪያ ቤቶችን ግንባታ ለማጠናቀቅና ለማስጀመር የ20 ቢሊ...     ፖለቲካ   \n",
       "22571                      የኦሕዴድን ስያሜና ዓርማ ለመተካት ሐሳብ ቀረበ     ፖለቲካ   \n",
       "23058  ሶማሊያ ቅሬታዋን ኢትዮጵያ ማስተባበያዋን ያስተጋቡበት የበርበራ ወደብ የዓ...     ፖለቲካ   \n",
       "22204  በከፍተኛ የሙስና ወንጀል የተጠረጠሩት የሜቴክ ከፍተኛ ኃላፊዎች ተሳትፈውበ...     ፖለቲካ   \n",
       "22111        ዋና ኦዲተሩ የንግድ ባንክ ቦርድ አባልነት ሹመታቸውን አልቀበልም አሉ     ፖለቲካ   \n",
       "\n",
       "                     date    views  \\\n",
       "44810  September 14, 2017  Unknown   \n",
       "22571       8 August 2018  Unknown   \n",
       "23058       18 March 2018  Unknown   \n",
       "22204     2 December 2018  Unknown   \n",
       "22111    30 December 2018  Unknown   \n",
       "\n",
       "                                                 article  \\\n",
       "44810  በአዲስ አበባ የተጀመሩ የጋራ መኖሪያ ቤቶችን ግንባታ ለማጠናቀቅና አዳዲስ...   \n",
       "22571  የኦሮሞ ሕዝብን የሚወክሉ ሌሎች ፓርቲዎችን በአንድነት ለማሰባሰብም ዕቅድ ...   \n",
       "23058  የግዛቴ አካል ከሆነውና ራሱን ነፃ መንግሥት ብሎ ከሚጠራ አካል ጋር የተደ...   \n",
       "22204  ‹‹በቀጥታ የሚመለከተንና የሚያስጠረጥረን ማስረጃ አልቀረበብንም›› ተጠርጣ...   \n",
       "22111  የኢትዮጵያ ንግድ ባንክ የቦርድ አባል እንዲሆኑ የተሾሙት ዋና ኦዲተር አቶ...   \n",
       "\n",
       "                                                  link  word_len  \n",
       "44810                  https://waltainfo.com/am/29360/       302  \n",
       "22571  https://www.ethiopianreporter.com/article/12372       247  \n",
       "23058   https://www.ethiopianreporter.com/article/8879       566  \n",
       "22204  https://www.ethiopianreporter.com/article/14054       754  \n",
       "22111  https://www.ethiopianreporter.com/article/14340       179  "
      ]
     },
     "execution_count": 97,
     "metadata": {},
     "output_type": "execute_result"
    }
   ],
   "source": [
    "data[data.category =='ፖለቲካ'].head(5)"
   ]
  },
  {
   "cell_type": "code",
   "execution_count": 104,
   "id": "d8cc68fd-8d2a-47a7-a496-8261558c0d98",
   "metadata": {},
   "outputs": [
    {
     "name": "stdout",
     "output_type": "stream",
     "text": [
      "headline\n",
      "category\n",
      "date\n",
      "views\n",
      "article\n",
      "link\n",
      "word_len\n"
     ]
    }
   ],
   "source": [
    "for x in data.columns:\n",
    "    print(x)"
   ]
  },
  {
   "cell_type": "code",
   "execution_count": 114,
   "id": "aef22ac9-2dcd-44fc-b99a-c7b33a821679",
   "metadata": {},
   "outputs": [
    {
     "data": {
      "text/plain": [
       "63.98811258085193"
      ]
     },
     "execution_count": 114,
     "metadata": {},
     "output_type": "execute_result"
    }
   ],
   "source": [
    "data[data.views=='Unknown'].shape[0]/data.shape[0]*100"
   ]
  },
  {
   "cell_type": "code",
   "execution_count": 111,
   "id": "d0a3160e-0729-4c61-b215-4754e70aaf11",
   "metadata": {},
   "outputs": [
    {
     "data": {
      "text/plain": [
       "Unknown    32943\n",
       "27           162\n",
       "30           156\n",
       "36           148\n",
       "32           147\n",
       "23           142\n",
       "26           140\n",
       "19           139\n",
       "29           139\n",
       "33           138\n",
       "Name: views, dtype: int64"
      ]
     },
     "execution_count": 111,
     "metadata": {},
     "output_type": "execute_result"
    }
   ],
   "source": [
    "data.views.value_counts().nlargest(10)"
   ]
  },
  {
   "cell_type": "code",
   "execution_count": 110,
   "id": "eb8a57ce-759a-4c4d-beb8-8f11a79ff2ac",
   "metadata": {},
   "outputs": [
    {
     "data": {
      "text/plain": [
       "2021-01-04             869\n",
       "2021/1/22 20:38 GMT    234\n",
       "2021/1/22 20:39 GMT    209\n",
       "2021/1/22 20:41 GMT    168\n",
       "2021/1/22 20:40 GMT    159\n",
       "2021/1/22 20:42 GMT    116\n",
       "Dec 17, 2019           115\n",
       "December 29, 2020       61\n",
       "March 23, 2020          55\n",
       "December 25, 2020       54\n",
       "Name: date, dtype: int64"
      ]
     },
     "execution_count": 110,
     "metadata": {},
     "output_type": "execute_result"
    }
   ],
   "source": [
    "data.date.value_counts().nlargest(10)"
   ]
  },
  {
   "cell_type": "code",
   "execution_count": 108,
   "id": "24e5287e-74a0-4ecf-93e2-e7ecd705d08e",
   "metadata": {},
   "outputs": [
    {
     "data": {
      "text/plain": [
       "ሀገር አቀፍ ዜና    20674\n",
       "ስፖርት          10411\n",
       "ፖለቲካ           9325\n",
       "ዓለም አቀፍ ዜና     6543\n",
       "ቢዝነስ           3894\n",
       "መዝናኛ            635\n",
       "Name: category, dtype: int64"
      ]
     },
     "execution_count": 108,
     "metadata": {},
     "output_type": "execute_result"
    }
   ],
   "source": [
    "data.category.value_counts()"
   ]
  },
  {
   "cell_type": "code",
   "execution_count": 117,
   "id": "354b61fd-4d03-4e58-bd86-721655dd7fa3",
   "metadata": {},
   "outputs": [
    {
     "data": {
      "text/plain": [
       "44810    በአዲስ አበባ የተጀመሩ የጋራ መኖሪያ ቤቶችን ግንባታ ለማጠናቀቅና አዳዲስ...\n",
       "18329    አዲስ አበባ፣ ታህሳስ 29፣ 2012 (ኤፍ.ቢ.ሲ) የአሸንዳ፣ ሻደይ፣ አሸ...\n",
       "17644    አዲስ አበባ ፣ የካቲት 25 ፣ 2012 (ኤፍ ቢ ሲ) ባለፉት አምስት ቀና...\n",
       "32773    ሩሲያ በ2018 ለምታስተናግደው የዓለም ዋንጫ ፊፋ ጨዋታዎችን ሊመሩ የሚች...\n",
       "4139      አዲስ አበባ፤- “መንገድ ለሰው” በሚል በአዲስ አበባ ከተማ ሲካሄድ የነ...\n",
       "22571    የኦሮሞ ሕዝብን የሚወክሉ ሌሎች ፓርቲዎችን በአንድነት ለማሰባሰብም ዕቅድ ...\n",
       "39949                                                     \n",
       "23058    የግዛቴ አካል ከሆነውና ራሱን ነፃ መንግሥት ብሎ ከሚጠራ አካል ጋር የተደ...\n",
       "41519      የተቃውሞ መሪውና ዜጋውም የሆኑትን አቶ አንዳርጋቸው ፅጌን የኢትዮጵያ ...\n",
       "32166    ኒጀር በሚቀጥለው ዓመት ለምታዘጋጀው የቶታል የአፍሪካ ከ20 ዓመት በታች ...\n",
       "Name: article, dtype: object"
      ]
     },
     "execution_count": 117,
     "metadata": {},
     "output_type": "execute_result"
    }
   ],
   "source": [
    "data.article.head(10)"
   ]
  }
 ],
 "metadata": {
  "kernelspec": {
   "display_name": "Python 3.7.13 ('issue')",
   "language": "python",
   "name": "python3"
  },
  "language_info": {
   "codemirror_mode": {
    "name": "ipython",
    "version": 3
   },
   "file_extension": ".py",
   "mimetype": "text/x-python",
   "name": "python",
   "nbconvert_exporter": "python",
   "pygments_lexer": "ipython3",
   "version": "3.7.13"
  },
  "vscode": {
   "interpreter": {
    "hash": "6f5af68d51c57781d0b00fa1a5ec382e98a5ea5ae87a311f64851d69a9e898f0"
   }
  }
 },
 "nbformat": 4,
 "nbformat_minor": 5
}
