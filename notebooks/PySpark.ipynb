{
 "cells": [
  {
   "cell_type": "code",
   "execution_count": 81,
   "id": "a4bd6712-811a-4c2f-9c00-e0f6db7af84d",
   "metadata": {},
   "outputs": [
    {
     "name": "stdout",
     "output_type": "stream",
     "text": [
      "Requirement already satisfied: pyspark in /opt/miniconda/lib/python3.9/site-packages (2.4.6)\n",
      "Requirement already satisfied: py4j==0.10.7 in /opt/miniconda/lib/python3.9/site-packages (from pyspark) (0.10.7)\n",
      "Requirement already satisfied: findspark in /opt/miniconda/lib/python3.9/site-packages (2.0.1)\n"
     ]
    }
   ],
   "source": [
    "!pip install pyspark\n",
    "!pip install findspark"
   ]
  },
  {
   "cell_type": "code",
   "execution_count": 83,
   "id": "e815f681-e6f3-4a5c-a529-63f4cbd92e4e",
   "metadata": {},
   "outputs": [],
   "source": [
    "import findspark \n",
    "findspark.init()"
   ]
  },
  {
   "cell_type": "code",
   "execution_count": 84,
   "id": "d705c18e-3fea-42d5-84e1-b19c2ae869cb",
   "metadata": {},
   "outputs": [],
   "source": [
    "import os\n",
    "import pandas as pd"
   ]
  },
  {
   "cell_type": "code",
   "execution_count": 85,
   "id": "a2da846b-2e81-4664-b6b3-67931a428bca",
   "metadata": {},
   "outputs": [],
   "source": [
    "import pyspark\n",
    "from pyspark import SparkConf\n",
    "from pyspark.context import SparkContext"
   ]
  },
  {
   "cell_type": "code",
   "execution_count": 86,
   "id": "a0497e89-87e6-4b54-bc80-eaf6707e5300",
   "metadata": {},
   "outputs": [],
   "source": [
    "from pyspark.sql.session import SparkSession\n",
    "import pyspark.sql.functions as psf\n",
    "from pyspark.sql.functions import lit,col,sum, avg, max, first, min, mean"
   ]
  },
  {
   "cell_type": "code",
   "execution_count": 90,
   "id": "fa355bac-07ca-4f0d-a5bc-c07246c00b7b",
   "metadata": {},
   "outputs": [],
   "source": [
    "# create spark connection\n",
    "\n",
    "def create_spark_connection(**kwargs):\n",
    "    app_name = kwargs.get('app_name','SparkDemo')\n",
    "    master = kwargs.get('master','yarn')\n",
    "    ui_port = kwargs.get('ui_port','4040')\n",
    "    driver_port = kwargs.get('driver_port','8887')\n",
    "    cores_max = kwargs.get('cores_max','4')\n",
    "    executor_cores = kwargs.get('executor_cores','4')\n",
    "    driver_memory = kwargs.get('driver_memory','8g') \n",
    "    executor_memory = kwargs.get('executor_memory','8g')\n",
    "    dynamicAllocation = kwargs.get('dynamicAllocation','false')\n",
    "    aqe = kwargs.get('aqe', 'true')\n",
    "    sql_shuffle_partitions = kwargs.get('sql_shuffle_partitions',200)\n",
    "\n",
    "    \n",
    "    os.environ['PYSPARK_PYTHON'] = './spark_exc_env/spark_env/bin/python' \n",
    "    os.environ['PYSPARK_DRIVER_PYTHON'] = '/usr/bin/python3'\n",
    "\n",
    "    conf = SparkConf()  \n",
    "     \n",
    "    conf.setAppName(app_name)\n",
    "    conf.set('spark.master', master)\n",
    "    \n",
    "    # setting spark ports\n",
    "    conf.set('spark.ui.port', ui_port)\n",
    "    conf.set('spark.driver.port', driver_port)\n",
    "    \n",
    "    # setting spark cores\n",
    "    conf.set('spark.cores.max', cores_max)\n",
    "    conf.set('spark.executor.cores', executor_cores)\n",
    "    \n",
    "    # setting spark memory\n",
    "    \n",
    "    conf.set('spark.driver.memory',driver_memory)\n",
    "    conf.set('spark.executor.memory', executor_memory)\n",
    "    \n",
    "    # setting \n",
    "    conf.set(\"spark.dynamicAllocation.enabled\", dynamicAllocation)\n",
    "    \n",
    "    # setting spark sql properties\n",
    "    conf.set(\"spark.shuffle.service.enabled\", \"true\")\n",
    "    conf.set('spark.sql.shuffle.partitions', sql_shuffle_partitions)\n",
    "    conf.set('spark.sql.adaptive.coalescePartitions.enabled', aqe)\n",
    "    conf.set(\"spark.sql.parquet.compression.codec\", \"gzip\")\n",
    "\n",
    "    # Use your own compressed package here: mine lies in /opt/miniconda/envs/spark_exc_env.tgz path.\n",
    "    conf.set(\"spark.yarn.dist.archives\",\"file:/opt/miniconda/envs/spark_exc_env.tgz#spark_exc_env\")\n",
    "\n",
    "\n",
    "\n",
    "    conf.set(\"spark.executor.memoryOverhead\", '2g')\n",
    "    conf.set(\"spark.shuffle.memoryFraction\", '1g')\n",
    "\n",
    "    \n",
    "    # building spark session\n",
    "    spark = SparkSession.builder \\\n",
    "    .config(conf=conf) \\\n",
    "    .enableHiveSupport() \\\n",
    "    .getOrCreate()\n",
    "    \n",
    "    sc = spark.sparkContext\n",
    "    sc.setLogLevel('WARN')\n",
    "    \n",
    "    return spark, sc\n",
    "\n",
    "def close_spark_connection(sc):\n",
    "    sc.stop()"
   ]
  },
  {
   "cell_type": "code",
   "execution_count": 91,
   "id": "f534e603-c9a8-4c21-b9c9-e19f16711dea",
   "metadata": {},
   "outputs": [
    {
     "name": "stdout",
     "output_type": "stream",
     "text": [
      "22/10/08 12:12:37 WARN SparkSession: Using an existing Spark session; only runtime SQL configurations will take effect.\n"
     ]
    },
    {
     "data": {
      "text/html": [
       "\n",
       "            <div>\n",
       "                <p><b>SparkSession - in-memory</b></p>\n",
       "                \n",
       "        <div>\n",
       "            <p><b>SparkContext</b></p>\n",
       "\n",
       "            <p><a href=\"http://ip-172-31-55-137.ec2.internal:4041\">Spark UI</a></p>\n",
       "\n",
       "            <dl>\n",
       "              <dt>Version</dt>\n",
       "                <dd><code>v3.3.0</code></dd>\n",
       "              <dt>Master</dt>\n",
       "                <dd><code>local[*]</code></dd>\n",
       "              <dt>AppName</dt>\n",
       "                <dd><code>Practise</code></dd>\n",
       "            </dl>\n",
       "        </div>\n",
       "        \n",
       "            </div>\n",
       "        "
      ],
      "text/plain": [
       "<pyspark.sql.session.SparkSession at 0xffff86156bb0>"
      ]
     },
     "execution_count": 91,
     "metadata": {},
     "output_type": "execute_result"
    }
   ],
   "source": [
    "spark, sc = create_spark_connection(app_name='SparkDemo')\n",
    "spark"
   ]
  },
  {
   "cell_type": "code",
   "execution_count": 92,
   "id": "43464222-09dc-4b00-83b7-aa005355250d",
   "metadata": {},
   "outputs": [
    {
     "data": {
      "text/plain": [
       "[('spark.driver.extraJavaOptions',\n",
       "  '-XX:+IgnoreUnrecognizedVMOptions --add-opens=java.base/java.lang=ALL-UNNAMED --add-opens=java.base/java.lang.invoke=ALL-UNNAMED --add-opens=java.base/java.lang.reflect=ALL-UNNAMED --add-opens=java.base/java.io=ALL-UNNAMED --add-opens=java.base/java.net=ALL-UNNAMED --add-opens=java.base/java.nio=ALL-UNNAMED --add-opens=java.base/java.util=ALL-UNNAMED --add-opens=java.base/java.util.concurrent=ALL-UNNAMED --add-opens=java.base/java.util.concurrent.atomic=ALL-UNNAMED --add-opens=java.base/sun.nio.ch=ALL-UNNAMED --add-opens=java.base/sun.nio.cs=ALL-UNNAMED --add-opens=java.base/sun.security.action=ALL-UNNAMED --add-opens=java.base/sun.util.calendar=ALL-UNNAMED --add-opens=java.security.jgss/sun.security.krb5=ALL-UNNAMED'),\n",
       " ('spark.app.startTime', '1665151036849'),\n",
       " ('spark.driver.host', 'ip-172-31-55-137.ec2.internal'),\n",
       " ('spark.driver.port', '43333'),\n",
       " ('spark.executor.id', 'driver'),\n",
       " ('spark.app.submitTime', '1665151036689'),\n",
       " ('spark.rdd.compress', 'True'),\n",
       " ('spark.executor.extraJavaOptions',\n",
       "  '-XX:+IgnoreUnrecognizedVMOptions --add-opens=java.base/java.lang=ALL-UNNAMED --add-opens=java.base/java.lang.invoke=ALL-UNNAMED --add-opens=java.base/java.lang.reflect=ALL-UNNAMED --add-opens=java.base/java.io=ALL-UNNAMED --add-opens=java.base/java.net=ALL-UNNAMED --add-opens=java.base/java.nio=ALL-UNNAMED --add-opens=java.base/java.util=ALL-UNNAMED --add-opens=java.base/java.util.concurrent=ALL-UNNAMED --add-opens=java.base/java.util.concurrent.atomic=ALL-UNNAMED --add-opens=java.base/sun.nio.ch=ALL-UNNAMED --add-opens=java.base/sun.nio.cs=ALL-UNNAMED --add-opens=java.base/sun.security.action=ALL-UNNAMED --add-opens=java.base/sun.util.calendar=ALL-UNNAMED --add-opens=java.security.jgss/sun.security.krb5=ALL-UNNAMED'),\n",
       " ('spark.serializer.objectStreamReset', '100'),\n",
       " ('spark.sql.warehouse.dir',\n",
       "  'file:/mnt/10ac-batch-6/notebooks/yishak_tadele/spark-warehouse'),\n",
       " ('spark.master', 'local[*]'),\n",
       " ('spark.submit.pyFiles', ''),\n",
       " ('spark.submit.deployMode', 'client'),\n",
       " ('spark.app.name', 'Practise'),\n",
       " ('spark.ui.showConsoleProgress', 'true'),\n",
       " ('spark.app.id', 'local-1665151037694')]"
      ]
     },
     "execution_count": 92,
     "metadata": {},
     "output_type": "execute_result"
    }
   ],
   "source": [
    "sc.getConf().getAll()"
   ]
  },
  {
   "cell_type": "markdown",
   "id": "3d733d29-220b-4e45-a077-89869ad965d9",
   "metadata": {},
   "source": [
    "## Data Fetching"
   ]
  },
  {
   "cell_type": "code",
   "execution_count": null,
   "id": "44ac3ee0-6b1d-423f-bc22-120e7a6c50e2",
   "metadata": {},
   "outputs": [],
   "source": []
  },
  {
   "cell_type": "code",
   "execution_count": 71,
   "id": "175ee69e-fe15-444b-9c95-1824d2fbb9d1",
   "metadata": {},
   "outputs": [],
   "source": [
    "path = 'data.csv'\n",
    "df  = spark.read.csv(path,header=True,inferSchema=True)"
   ]
  },
  {
   "cell_type": "code",
   "execution_count": 72,
   "id": "6ecf950f-1083-42b6-b671-c15c9542ff8f",
   "metadata": {},
   "outputs": [],
   "source": [
    "\n",
    "df_pandas = pd.read_csv('data.csv')"
   ]
  },
  {
   "cell_type": "code",
   "execution_count": 73,
   "id": "6501f99a-db28-4ea4-9674-4a38cf9afcfc",
   "metadata": {},
   "outputs": [
    {
     "data": {
      "text/plain": [
       "(169139, (51483, 6))"
      ]
     },
     "execution_count": 73,
     "metadata": {},
     "output_type": "execute_result"
    }
   ],
   "source": [
    "df.count(), df_pandas.shape"
   ]
  },
  {
   "cell_type": "code",
   "execution_count": 74,
   "id": "c62d602f-93be-4c9c-aab2-05ef0ed28357",
   "metadata": {},
   "outputs": [
    {
     "data": {
      "text/plain": [
       "DataFrame[headline: string, category: string, date: string, views: string, article: string, link: string]"
      ]
     },
     "execution_count": 74,
     "metadata": {},
     "output_type": "execute_result"
    }
   ],
   "source": [
    "df"
   ]
  },
  {
   "cell_type": "code",
   "execution_count": 75,
   "id": "9c71bd13-14d5-4a80-8f77-10e4bad74317",
   "metadata": {},
   "outputs": [
    {
     "name": "stdout",
     "output_type": "stream",
     "text": [
      "root\n",
      " |-- headline: string (nullable = true)\n",
      " |-- category: string (nullable = true)\n",
      " |-- date: string (nullable = true)\n",
      " |-- views: string (nullable = true)\n",
      " |-- article: string (nullable = true)\n",
      " |-- link: string (nullable = true)\n",
      "\n"
     ]
    }
   ],
   "source": [
    "df.printSchema()"
   ]
  },
  {
   "cell_type": "code",
   "execution_count": 76,
   "id": "97e6f3d8-c9df-4ee3-8f26-75ad6741caee",
   "metadata": {},
   "outputs": [
    {
     "name": "stdout",
     "output_type": "stream",
     "text": [
      "+--------------------+--------------------+-----------------+-----+--------------------+--------------------+\n",
      "|            headline|            category|             date|views|             article|                link|\n",
      "+--------------------+--------------------+-----------------+-----+--------------------+--------------------+\n",
      "|የኦሊምፒክ ማጣሪያ ተሳታፊዎ...|                ስፖርት| January 14, 2021|    2|ብርሃን ፈይሳየኢትዮጵያ ቦክ...|https://www.press...|\n",
      "|          አዲስ ዘመን ድሮ|                መዝናኛ|December 28, 2020|    4| የአዲስ ዘመን ጋዜጣ ቀደም...|                null|\n",
      "|      መንገድ በመከተል አልፎ|                null|             null| null|                null|                null|\n",
      "|      አልፎ በሚገኙት ሰፈሮች|                null|             null| null|                null|                null|\n",
      "|       ብዙዎች የልኳንዳ ሥጋ|                null|             null| null|                null|                null|\n",
      "|የተሰቀለባቸውና   ፉርኖ ይ...|https://www.press...|             null| null|                null|                null|\n",
      "|የአረንጓዴ ጎርፍ በጎ አድራ...|                ስፖርት|  January 6, 2021|    6|ቦጋለ አበበየአዲስ አበባ ከ...|https://www.press...|\n",
      "|የሊጉ በቢዝነስ ሞዴል መመራ...|                ስፖርት|  January 6, 2021|    5|ብርሃን ፈይሳአዲስ አበባ፡-...|                null|\n",
      "|(2012ዓም) የሊግ ኮሚቴ ...|https://www.press...|             null| null|                null|                null|\n",
      "|የኦሊምፒክ ሥራ አስፈፃሚው ...|                ስፖርት|  January 6, 2021|   12|ቦጋለ አበበ የኢትዮጵያ ኦሊ...|                null|\n",
      "|                 ክልል|                null|             null| null|                null|                null|\n",
      "|                 ርዕሰ|                null|             null| null|                null|                null|\n",
      "|              መስተዳድር|                null|             null| null|                null|                null|\n",
      "|              ፕሬዚዳንት|                null|             null| null|                null|                null|\n",
      "|                  አቶ|                null|             null| null|                null|                null|\n",
      "|                 ደስታ|                null|             null| null|                null|                null|\n",
      "|                 ሌዳሞ|                null|             null| null|                null|                null|\n",
      "|               ጉባኤውን|                null|             null| null|                null|                null|\n",
      "|               በንግግር|                null|             null| null|                null|                null|\n",
      "|                የከፈቱ|                null|             null| null|                null|                null|\n",
      "+--------------------+--------------------+-----------------+-----+--------------------+--------------------+\n",
      "only showing top 20 rows\n",
      "\n"
     ]
    }
   ],
   "source": [
    "df.show()"
   ]
  },
  {
   "cell_type": "code",
   "execution_count": 77,
   "id": "f7d16f9e-78fc-43bd-a566-d3a7913641ee",
   "metadata": {},
   "outputs": [],
   "source": [
    "sample_text = df.rdd.takeSample(True,1,seed=0)"
   ]
  },
  {
   "cell_type": "code",
   "execution_count": 78,
   "id": "28378ed3-5263-4a37-9427-eaa9bccf4d66",
   "metadata": {},
   "outputs": [
    {
     "data": {
      "text/plain": [
       "[Row(headline='‹የማይነጋ መስሏት…› የሚል አንድ አባባል አለ። አዎ! እንደ ጨለመ አይቀርምና በጨለማ አልታይም ብለውና ተደፋፍረው ያደረጉት ነገር ብርሃን ሲወጣ ይጋለጣል። በአባይ ግድብ ድርድር ላይ የተከሰተው ይህን መሰል ሁኔታ ነው። አሜሪካ ከዕለታት አንድ ቀን በድንገት ነሽጧት ፈላጭ ቆራጭ ለመሆን አልሞከረችም። በኢትዮጵያ ፖለቲከኞችና ጋዜጠኞች ሲደበቅላት የነበረውን ጣልቃ ገብነቷ ነው ገሃድ የወጣው። የብልጽግና ባለሥልጣናትና ጋዜጠኞቻቸው የአሜሪካን ወደ ድርድሩ መቀላቀል የወዳጅነት ጨዋታ አስመስለው ሲነግሩን ሰንብተዋል። አሜሪካ ገንዘቧን፣ የባለሥልጣናቷን ጊዜና ዕውቀት እንዲያው በከንቱ እያባከነች እንደሆነ አድርገን እንድናስብ ሲወተውቱን ከርመዋል። የአሜሪካን ከነኮተቷ ወደ ድርድሩ መግባት የተቃወሙና የተቹ ወገኖችንም ለመቆጣት፣ ለማሸማቀቅና ዕውቀት የጎደላቸው አስመስለው ለማሳየት ቃጥቷቸዋል።ነገር ግን ጉልበተኛዋ አሜሪካ፣ በተለይም ለጥቁሮች ንቀቱን በግላጭ የሚያሳየው የትራምፕ ቡድን ለብልጽግና ፓርቲ ባለሥልጣናት ብሎ መዋሸትም ሆነ ነገሩን ለረዥም ጊዜ ለማድበስበስ የሚሞክርበት ምንም ምክንያት የለውምና፣ ወደ ድርድሩ የገባበትን ጉዳይ አፍረጥርጦታል። አሜሪካ ለግብጽ ይጠቅማል ብላ የሞነጫጨረችውን ጉድ የያዘ ወረቀት ወደ ብልጽግና አለቆች በመላክ እንደ ሕጻን በቀጭን ትዕዛዝ ልታስፈርማቸው ከጅላለች። በአባይ ወንዝ ጉዳይ ያለ እሷ ይሁንታ የኢትዮጵያ መንግሥት አንዳች ነገር እንዳያደርግ ዛቻ ሰንዝራለች።ይህ ሁኔታ የብልጽግና ቡድን የዲፕሎማሲ አያያዝ ክፉኛ የዳሸቀ መሆኑን ያጋለጠ ነው። የብልጽግና ካድሬዎችና ጋዜጠኞች በዚህ ኪሳራና ውርደት ውስጥ የጠቅላይ ሚኒስትሩ መንግሥት ጠንካራ፣ አይበገሬና ለማንም የማይንበረከክ እንደሆነ አድርጎ የሚያሳይ ድራማ መሥሪያ የሚሆን መነሻ ሐሳብ ለማግኘት ላይ ታች ብለዋል። ጥንቃቄ የጎደላቸው ጩኸቶች በርክተዋልና ‹ቀድሞ ነበር እንጂ መጥኖ መደቆስ…› የሚለውን አባባል ማስታወስ ግድ ሆኗል። አገርና የሕዝብ ጉዳይ ቀጣይ ነውና ከዚህ ትምህርት ተወስዶ ቀጣይ አካሄዶች በጥንቃቄ ሊሞሉ ይገባል።የብልጽግና ቡድን በውጭም ሆነ በአገር ውስጥ ጉዳዮች በግለሰብ ፍላጎትና ስብዕና ላይ የተንጠለጠለ አካሄድ በመከተል ላይ ያለ ቡድን ነውና፣ የዲፕሎማሲ አያያዙም ከዚህ የተለየ አይደለም። የአገሪቱ ኹለት ምክር ቤቶች የማያውቋቸውና እነሱ መክረውና ዘክረው ውሳኔ ያልሰጡባቸው በርካታ ጉዳዮች በጠቅላይ ሚኒስትሩ ፍላጎት ብቻ ተተግብረዋል። ብልጽግናዎች ሕዝብም ሆነ የውጭ መንግሥታት ጠቅላይ ሚኒስትሩን በአገሪቱ ጉዳዮች ላይ እንደ ብቸኛ አድራጊና ፈጣሪ ተደርገው ይታዩ ዘንድ ምቹ ሁኔታዎችን ፈጥረዋል።ፎቶን ተሸክሞና አሸክሞ እዚህና እዚያ ሸብረብ የሚባለውም ለዚህ ነው። ለጠቅላይ ሚኒስትሩ በኦሮሞ ብልጽግና ፓርቲ አማካኝነት በመደረግ ላይ ያለው አምልኮ መሰል ስርዓት፣ ለቀድሞው ጠቅላይ ሚኒስትር መለስ ዜናዊ በአመራር ዘመናቸው ሲደረግ ያልታየና የመለስን ሞት ተከትሎ በእነ በረከት ስምኦን ታቅዶ ሐምሌ 2004 ከተተገበረው ‘ሐዘን የማስፈን ንቅናቄ’ ጋር የሚመሳሰል ነው። ይህ የእነ በረከት ካድሬ መራሽ የ2004 ንቅናቄ፣ በዚያው ቀጥሎ የግንቦት 2007ቱን ምርጫ መቶ-በ-መቶ አሸነፍን በማለት መደምደሙ መረሳት የለበትም።የውጭ መንግሥታትም ጠቅላዩን ‘ወንድሜ’ እና ‘ጓዴ’ እያሉ እያቆላመጡ፣ ብር በሳምሶናይት እያሳቀፉ በገንዘቡ ‘ይህ ተሠራ’ ‘ያ ተደረገ’ ሲባል ሕዝብም የአገሪቱ ምክር ቤቶችም ለነገሩ ባይተዋር ሆነው ጉዳዩን ተከታትለዋል። በእርግጥ የጠቅላዩ ‘የውጭ ወንድሞችና ጓዶች’፣ ገንዘብ ሰጡ የተባሉት የአንድ ንጉሥ እናት እንዲሁም በኖርዌይ መንግሥት የሚመራው የኖቤል ኮሚቴ፣ አንዳች ዓላማ እና ተልዕኮ ሳይኖራቸው የጠቅላይ ሚኒስትሩ ወዳጅ፣ አወዳሽና ገንዘብ ነስናሽ እንደማይሆኑ የታወቀ ቢሆንም፣ የብልጽግና ቡድንም ሆነ ኹለቱ ምክር ቤቶች ጉዳዩ ምንም ሳያሳስባቸው ጠቅላዩ እንዳሻቸው ያድርጉ ባይ ሆነዋል። ይህ ደግሞ የአገሪቱን የውጭ ግንኙነት የአገሪቱንና የሕዝቦችን ደኅንነትና ጥቅም ያላማከለ ሆኖ እንዲቀጥል እያደረገ ነው።የኖቤል ሽልማቱን ተከትሎ የከተማቸውን አንዳንድ ሕንጻዎች በቀለም አስውበው፣ ወንድሜ ዐቢይ አሕመድ እንኳን ደስ አለህ ያሉት የዓረብ አገር መሪ፣ በዓረብ ሊግ ስብሰባ ላይ አገራቸው የግብጽን አቋም ደግፋ እንድትቆምና ኢትዮጵያን እንድታወግዝ ከማድረግ አልተቆጠቡም። የጠቅላይ ሚኒስትሩ ወዳጅ፣ የኢትዮጵያ ጠላት ሆነው ታይተዋል። ጠቅላይ ሚኒስትሩ ራሳቸው መኪና እየሾፈሩ ያንሸራሸሯቸው የዓረብ ገዥወች ከግብጽ ጎን ወግነዋል።የቀወድሞ ሕወሐት/ኢሕአዴጎች የአሁን ብልጽግናዎች አንድ ሊክዱት የማይገባ ሃቅ አለ። የሕወሐት/ኢሕአዴግ ቡድን በየትኛውም ዓለም ታይቶ በማይታወቅ ሁኔታ ለአገሩ ክብር የሌለው፣ ዓለም ያደነቃቸውን የአገር አኩሪ ታሪኮች የሚያጣጥል፣ አገር ያቃኑ ጀግኖችንና መሪዎችን ለመወንጀልና ለማዋረድ ብዙ የሠራ፣ በየትኛውም አገር የሌለን አገርን የማፍረስ መብት ያናጠፈ፣ ሕዝብን በዘርና በጎሳ ከፋፍሎ ማናከስን ሥራዬ ብሎ ያካሄደ ሆኖ 27 ዓመታትን የዘለቀ ቡድን ነው። የትኛውም የዓለም አገር በዚህ ዓይነት ቡድን ተመርቶ አያውቅም።ሕወሐት/ኢሕአዴግ የሚባለው ቡድን አባልና አጋር ተብለው ክልሎችን እየገዙ የኖሩ ቡድኖች የሕወሐት ሎሌዎች ሆነው እነዚህን አሳፋሪ ሥራዎች በሕዝባቸውና በአገራቸው ላይ ሲፈጽሙ የኖሩት ለግል ብልጽግናቸው ቅድሚያ በመስጠት መሆኑን መካድ አይቻልም። ኦሕዴድ እንደ ሥሙ ለኦሮሞ ሕዝብ ዴሞክራሲን ያጎናጸፈ ድርጅት አልነበረም፤ በኦሮሞ ሕዝብ ላይ ወያኔአዊ የመከራ ዶፍ እንዲወርድ፣ የኦሮሚያ ሃብት እንዲመዘበር ያደረገ ድርጅት እንጂ። ብአዴን እንደ ሥሙ ለአማራ ሕዝብ ዴሞክራሲን ለማጎናጸፍ የሚሠራ ድርጅት አልነበረም፤ በአማራ ሕዝብ ላይ ወያኔ መራሽ የጥላቻ ዶፍ እንዲወርድ፣ የአማራ ሕዝብ ያለ አበሳው የዘረኞችና የጠባቦች የጥላቻ ዒላማና የጥቃት ሰለባ እንዲሆን፣ የአማራ መሬትና ሃብት እንዲዘረፍ ያደረገ ድርጅት እንጂ።ደኢሕዴንም ሆነ በሐረሪ፣ በሶማሌ፣ በጋምቤላ፣ በቤኒሻንጉልና በአፋር ክልሎች ውስጥ የሕወሐት አሻንጉሊት ሆነው ሲያገለግሉ የነበሩት ገዥ ድርጅቶች በሕዝባቸውና በክልላቸው ላይ የሕወሐት የበላይነትና ፈላጭ ቆራጭነት እንዲሰፍን፣ ሕዝባቸው ለሕወሐት ተምበርክኮ እንዲገዛ መሣሪያዎች ሆኑ እንጂ ከኦሕዴድና ከብአዴን የተለዩ የሚያደርጋቸው ባህሪም ሆነ ሥራ አልነበራቸውም። ብዙ የውጪ መንግሥታትና ቡድኖች ይህን ጉዳይ በሚገባ ያውቃሉ። ስለዚህ ራሳቸውን በሕወሐት ቦታ አስቀምጠው፣ ብልጽግና ቡድንን ተጠቅመው በአገሪቱ ላይ ያሻቸውን ለማድረግ አይሞክሩም ብሎ ማሰብ አጉል የዋህነት ሊሆን ይችላል።ከሕወሐት/ኢሕአዴግ መንግሥት በስተቀር የየትኛውም አገር መንግሥት ለአገሩና ለጠቅላላ ሕዝቡ ጸር ሆኖ ሲቆም ታይቶ አይታወቅምና የውጪ ኃይሎችን ጭብጨባ፣ ሽልማት፣ ውዳሴና ዕርዳታ በሚመለከት ልከኛ አመለካከት መያዝ ተገቢ ነው። እያንዳንዱን የፈረንጅና የዓረብ ደግ መሳይ ነገር፣ የብልጽግና ቡድንም ሆነ የጠቅላይ ሚኒስትሩ ታላቅነት፣ ተቀባይነትና ተወዳጅነት መለኪያ አድርጎ ፕሮፓጋንዳ መሥራት ከወዲሁ ሊታሰብበት ይገባል። መጨረሻው የማያምር ሊሆን ይችላልና። ‹እኔን እምቢ የሚል የለም። ለምኖ የማግኘት ስጦታ አለኝ› የሚል ፖለቲካ በአገራት ግንኙነት ላይ አይሠራም። ሁሉም ጥቅሙን ለማስከበር ነው የሚሮጠው።የቀድሞ ኢሕአዴጎች የአሁን ብልጽግናዎች ከሕወሐት ሎሌነት ወደ ፈረንጅና ዓረብ ሎሌነት ራሳችሁን አውርዳችሁ፣ አገርና ሕዝብ አዋርዳችሁ እንዳትዋረዱ ተጠንቀቁ ተብለው ሊመከሩ ይገባል። የአባይ ግድብ ውዝግብ እውነታ ትራምፕ አልሰሙም፣ ትራምፕ አላወቁም ወዘተ…የሚል መሸፋፈኛ መሰንዘሩ ውሃ የሚያነሳ ጉዳይ አይደለም። ‘….በወፍ ኩስ የተሞላ ቆሻሻ አህጉር…’ ብለው አፍሪካን ያጣጣሉ መሪ፣ ለኢትዮጵያ የተለየ ተቆርቋሪነት ሊኖራቸው አይችልም። ሊሰመርበት የሚገባው አሜሪካ ወደ ድርድሩ ለምና ላስገባቻት ለግብጽ ያደላ አቋም ያላት መሆኑ እና አሁንም አሜሪካ ‘ውሃ እንዳትሞሉ!’ የሚለውን ቀጭን ትዕዛዟን ያላጠፈች መሆኑ ነው።ከወደ ግብጽ በተደጋጋሚ የሚሰነዘረውን ‘አስፈላጊውን አማራጭ ሁሉ እንጠቀማለን!’ የሚል ዛቻ ተከትሎ የግብጹ መሪ የጦር አዛዦቹን ሰብስቦ ማናገሩ በመገናኛ ብዙኀን ተሰምቷል። የኢትዮጵያው ጠቅላይ ሚኒስትርም በተመሳሳይ የጦር አዛዦችን ሰብስበው እንደነበረና፣ ዝርዝር ማብራሪያ ባይሰጥም፣ በተቋማዊና መዋቅራዊ ለውጦች ላይ ያተኮረ ስብሰባ እንደነበረ ተነግሯል። ጠቅላይ ሚኒስትሩ በደቡብ ክልል ዳውሮ፣ ደቡብ ኦሞ ዞንና በኮን ልዩ ወረዳ ባለፈው ቅዳሜና እሁድ ባካሄዱት ስብሰባ ላይ፣ ባይጠቅሱም ኢትዮጵያ ካልነኳት የማትነካ- ከነኳት ግን የማትምር አገር መሆኗን ተናግረዋል።ግብጽን ወይም ሌላ አገርን በሥም ባይጠቅሱም፣ ትግራይ ብለው ጀምረው ከብሔረሰቦች ወደ ሠላሳ ስድስት የሚሆኑትን በሥም ጠርተው፣ ኢትዮጵያን ለጠላት አሳልፈው የማይሰጡ መሆኑን፣ ኢትዮጵያ መቶ ሚሊዮን ጀግኖች ያሏት አገር መሆኗን ወዘተ… በመጥቀስ መንበርከክ የለም ብለዋል።የተለያዩ ምክንያቶችን እየዘረዘሩ ኢትዮጵያንና ኢትዮጵያዊነትን የሚያጣጥሉ፣ ኢትዮጵያን እናስቀድማለን የሚሉ ወገኖችንም በሕዝብ ጠላትነት ፈርጀው ለማጥቃት የቋመጡ ወገኖች (በተለይ በትግራይ፣ በኦሮምያና በአማራ ክልል) በገሃድ እያቅራሩ ባሉበት ጊዜ ላይ ብንገኝም፣ ጠቅላይ ሚኒስትሩ እንዳሉት፣ ኢትዮጵያ ለክፉ ቀን ደራሽ የሆኑ ሚሊዮኖች ልጆች ያሏት አገር መሆኗ የሚካድ አይደለም። ነገር ግን ግልጽና ስውር ሴራዎችን አክሽፎ፣ በግንባር የሚሰለፍ ጠላት ከመጣም በየፈርጁ ተሰልፈው በሳልና ውጤታማ አመራር የሚሰጡ መሪዎች አሏት ወይ የሚለው ጉዳይ በጽሞና ሊታሰብበት ይገባል።አሁን ያለው የሰሜንና ደቡብ ሱዳን፣ የኤርትራ፣ በከፊልም የጎረቤት ሶማሊያ አቋምና ከኢትዮጵያ ጋር ያላቸው ግንኙነት ግብጽ ከምድራቸው ተንደርድራ ኢትዮጵያን እንድታጠቃ ይፈቅዳሉ ብሎ ለመደምደም የማያስችል ቢሆንም አንደኛ ግብጽ ሌላ ራሷ ልትጠቀምበት የምትችለው አማራጭ ምንድን ነው? ኹለተኛ የግብጽ መሪዎች በተደጋጋሚ እንደሚናገሩትና አንዳንድ ወገኖችም የግብጽን መቆጣት ለጥቅማቸው ሲሉ እጃቸውን ሊጨምሩበት እንደሚፈልጉ፣ በግልጽና በተዘዋዋሪ ሲዝቱ ስለሚሰሙ ግብጽ የውክልና ሴራ ጉንጎና ወይም የውክልና ጦርነት ለማካሄድ ብትፈልግ እነማንን፣ መቼና እንዴት ልትጠቀምባቸው ትችለለች?ሦስተኛ ከለውጡ በኋላ በጦሩ ውስጥ የቀሩት የጦር መኮነኖች በተለይም ጀኔራሎችና ኮሎኔሎች (በሕወሐት/ኢሕአዴግ አገዛዝ መልካም ፈቃድ በአንዴ ከአቶነት ወደ ከፍተኛ መኮነንነት የተመነደጉት) ዘመናዊ ጦርነትን የመምራት ብቃት ምን ያህል አስተማማኝ ነው? አገሪቱ ለቀድሞው ሠራዊት መሪዎች ጥሪ ማድረግ ይኖርባት ይሆን? አራተኛ አሁን ኢትዮጵያ ያለችበት አገራዊ (ውስጣዊ) ሁኔታ ከየትኛው ዘመን ጋር ይመሳሰላል? በዳግማዊ አጼ ምኒልክ ዘመን ጣሊያን ወረራ ሊያካሂድ ከሞከረበት ዘመን ጋር ወይስ በቀዳማዊ አጼ ኃይለሥላሴ ዘመን ጣሊያን ወረራ አካሂዶ ለ5 ዓመታት ገዥ ለመሆን ከሞከረበት ዘመን ጋር አልያስ በደርግ የመጀመሪያ ዓመታት ላይ ተስፋፊው የጎረቤት ሶማሊያ መንግሥት መጠነ ሰፊ ወረራ ካካሄደበት ዘመን ጋር?እነዚህና ሌሎችንም ነባራዊ ሁኔታዎች በመፈተሽ፣ አገራዊ (የውስጥ) እና ዓለም ዐቀፋዊ ነባራዊ ሃቆችን በማጤን፣ መዘጋጀትና ነቅቶ መጠበቅ ለነገ የማይባል የቤት ሥራ ነው። የጦርነት ሂደቶችና ውጤቶችን በጭብጨባ፣ በጩኸት፣ በፉጨትና ፎቶ ይዞ በመሰለፍ ተሸፋፍነው የሚድበሰበሱ አይደሉም።', category=None, date=None, views=None, article=None, link=None)]"
      ]
     },
     "execution_count": 78,
     "metadata": {},
     "output_type": "execute_result"
    }
   ],
   "source": [
    "sample_text"
   ]
  },
  {
   "cell_type": "code",
   "execution_count": null,
   "id": "1f29f258-934c-4714-9cef-2fd9a698c068",
   "metadata": {},
   "outputs": [],
   "source": []
  }
 ],
 "metadata": {
  "kernelspec": {
   "display_name": "Python 3 (ipykernel)",
   "language": "python",
   "name": "python3"
  },
  "language_info": {
   "codemirror_mode": {
    "name": "ipython",
    "version": 3
   },
   "file_extension": ".py",
   "mimetype": "text/x-python",
   "name": "python",
   "nbconvert_exporter": "python",
   "pygments_lexer": "ipython3",
   "version": "3.9.12"
  }
 },
 "nbformat": 4,
 "nbformat_minor": 5
}
