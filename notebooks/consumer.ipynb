{
 "cells": [
  {
   "cell_type": "code",
   "execution_count": null,
   "metadata": {},
   "outputs": [],
   "source": [
    "import sys\n",
    "import os\n",
    "from json import dumps, loads\n",
    "sys.path.append(os.path.abspath(os.path.join('../scripts')))\n",
    "import sys\n",
    "import os\n",
    "sys.path.insert(0, '../scripts/')\n",
    "sys.path.insert(0, '../logs/')\n",
    "sys.path.append(os.path.abspath(os.path.join('..')))\n",
    "from logger import App_Logger\n",
    "from kafka_python_client import KafkaClient"
   ]
  },
  {
   "cell_type": "code",
   "execution_count": null,
   "metadata": {},
   "outputs": [],
   "source": [
    "kf_client = KafkaClient(\n",
    "    'group2',\n",
    "    [\n",
    "        'localhost:8007',\n",
    "        'localhost:9093',\n",
    "        'localhost:9094'\n",
    "    ]\n",
    ")"
   ]
  },
  {
   "cell_type": "code",
   "execution_count": null,
   "metadata": {},
   "outputs": [],
   "source": [
    "kf_client.create_admin_client()"
   ]
  },
  {
   "cell_type": "code",
   "execution_count": null,
   "metadata": {},
   "outputs": [],
   "source": [
    "print(kf_client.get_topics())"
   ]
  },
  {
   "cell_type": "code",
   "execution_count": null,
   "metadata": {},
   "outputs": [],
   "source": [
    "kf_client.create_producer(value_serializer=kf_client.get_json_serializer())"
   ]
  },
  {
   "cell_type": "code",
   "execution_count": null,
   "metadata": {},
   "outputs": [],
   "source": [
    "kf_client.send_data(topic_name='Text-Corpus', data_list=[{'number': 152}, {'number': 200}, {'number': 300}, {'number': 400}, {'number': 500}, {'number': 600}, {\n",
    "                    'number': 700}, {'number': 800}, {'number': 900}, {'number': 100}, {'number': 110}, {'number': 120}, {'number': 130}, {'number': 140}, {'num"
   ]
  }
 ],
 "metadata": {
  "kernelspec": {
   "display_name": "Python 3.8.10 64-bit",
   "language": "python",
   "name": "python3"
  },
  "language_info": {
   "name": "python",
   "version": "3.8.10"
  },
  "orig_nbformat": 4,
  "vscode": {
   "interpreter": {
    "hash": "892b1dbae191cb403baa4bf29e539705d2bb168fb9a756bde180b5b738f682b9"
   }
  }
 },
 "nbformat": 4,
 "nbformat_minor": 2
}
