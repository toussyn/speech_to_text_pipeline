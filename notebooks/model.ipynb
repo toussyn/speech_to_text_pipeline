{
 "cells": [
  {
   "cell_type": "code",
   "execution_count": 3,
   "metadata": {},
   "outputs": [],
   "source": [
    "# Neural Network\n",
    "import keras\n",
    "from keras.utils.generic_utils import get_custom_objects\n",
    "from keras import backend as K\n",
    "from keras import regularizers, callbacks\n",
    "from keras.constraints import max_norm\n",
    "from keras.models import Model, Sequential, load_model\n",
    "from keras.layers import Input, Lambda, Dense, Dropout, Flatten, Embedding, Activation, GRUCell, LSTMCell,SimpleRNNCell\n",
    "from keras.layers import Convolution2D, MaxPooling2D, Convolution1D, Conv1D, SimpleRNN, GRU, LSTM, CuDNNLSTM, CuDNNGRU, Conv2D\n",
    "from keras.layers import LeakyReLU, PReLU, ThresholdedReLU, ELU\n",
    "from keras.layers import BatchNormalization, TimeDistributed, Bidirectional\n",
    "from keras.layers import Wrapper\n",
    "from keras.regularizers import l2\n",
    "from tensorflow.keras.optimizers import Adam, SGD, RMSprop, Adagrad, Adadelta, Adamax, Nadam\n",
    "from keras.callbacks import ModelCheckpoint \n",
    "from keras.utils import np_utils\n",
    "from keras import constraints, initializers, regularizers\n",
    "import keras.losses\n",
    "import tensorflow as tf"
   ]
  },
  {
   "cell_type": "markdown",
   "metadata": {},
   "source": [
    "#### RNN"
   ]
  },
  {
   "cell_type": "code",
   "execution_count": 4,
   "metadata": {},
   "outputs": [],
   "source": [
    "def regular_rnn_model(input_dim, output_dim=29):\n",
    "    # Input\n",
    "    input_data = Input(name='the_input', shape=(None, input_dim))\n",
    "    # Recurrent layer\n",
    "    simp_rnn = GRU(output_dim, return_sequences=True, \n",
    "                 implementation=2, name='rnn')(input_data)\n",
    "    # Softmax Activation Layer\n",
    "    y_pred = Activation('softmax', name='softmax')(simp_rnn)\n",
    "    # Specifying the model\n",
    "    model = Model(inputs=input_data, outputs=y_pred)\n",
    "    model.output_length = lambda x: x\n",
    "    print(model.summary())\n",
    "    return model"
   ]
  },
  {
   "cell_type": "code",
   "execution_count": 5,
   "metadata": {},
   "outputs": [
    {
     "name": "stdout",
     "output_type": "stream",
     "text": [
      "Model: \"model\"\n",
      "_________________________________________________________________\n",
      " Layer (type)                Output Shape              Param #   \n",
      "=================================================================\n",
      " the_input (InputLayer)      [(None, None, 161)]       0         \n",
      "                                                                 \n",
      " rnn (GRU)                   (None, None, 29)          16704     \n",
      "                                                                 \n",
      " softmax (Activation)        (None, None, 29)          0         \n",
      "                                                                 \n",
      "=================================================================\n",
      "Total params: 16,704\n",
      "Trainable params: 16,704\n",
      "Non-trainable params: 0\n",
      "_________________________________________________________________\n",
      "None\n"
     ]
    }
   ],
   "source": [
    "model_0 = regular_rnn_model(input_dim=161)"
   ]
  },
  {
   "cell_type": "markdown",
   "metadata": {},
   "source": [
    "#### Bidirectional LSTM"
   ]
  },
  {
   "cell_type": "code",
   "execution_count": 6,
   "metadata": {},
   "outputs": [],
   "source": [
    "def brnn_tdd_model(input_dim, units, activation, output_dim=29):\n",
    "    # Input\n",
    "    input_data = Input(name='the_input', shape=(None, input_dim))\n",
    "    # Bidirectional recurrent layer\n",
    "    brnn = Bidirectional(LSTM(units, activation=activation, \n",
    "        return_sequences=True, implementation=2, name='brnn'))(input_data)\n",
    "    # TimeDistributed Dense layer\n",
    "    time_dense = TimeDistributed(Dense(output_dim))(brnn)\n",
    "    # Softmax activation layer\n",
    "    y_pred = Activation('softmax', name='softmax')(time_dense)\n",
    "    # Specifying the model\n",
    "    model = Model(inputs=input_data, outputs=y_pred)\n",
    "    model.output_length = lambda x: x\n",
    "    print(model.summary())\n",
    "    return model"
   ]
  },
  {
   "cell_type": "code",
   "execution_count": 7,
   "metadata": {},
   "outputs": [
    {
     "name": "stdout",
     "output_type": "stream",
     "text": [
      "Model: \"model_1\"\n",
      "_________________________________________________________________\n",
      " Layer (type)                Output Shape              Param #   \n",
      "=================================================================\n",
      " the_input (InputLayer)      [(None, None, 161)]       0         \n",
      "                                                                 \n",
      " bidirectional (Bidirectiona  (None, None, 400)        579200    \n",
      " l)                                                              \n",
      "                                                                 \n",
      " time_distributed (TimeDistr  (None, None, 29)         11629     \n",
      " ibuted)                                                         \n",
      "                                                                 \n",
      " softmax (Activation)        (None, None, 29)          0         \n",
      "                                                                 \n",
      "=================================================================\n",
      "Total params: 590,829\n",
      "Trainable params: 590,829\n",
      "Non-trainable params: 0\n",
      "_________________________________________________________________\n",
      "None\n"
     ]
    }
   ],
   "source": [
    "model_2 = brnn_tdd_model(input_dim=161, units=200, activation='relu')"
   ]
  },
  {
   "cell_type": "code",
   "execution_count": null,
   "metadata": {},
   "outputs": [],
   "source": []
  }
 ],
 "metadata": {
  "kernelspec": {
   "display_name": "Python 3.8.10 64-bit",
   "language": "python",
   "name": "python3"
  },
  "language_info": {
   "codemirror_mode": {
    "name": "ipython",
    "version": 3
   },
   "file_extension": ".py",
   "mimetype": "text/x-python",
   "name": "python",
   "nbconvert_exporter": "python",
   "pygments_lexer": "ipython3",
   "version": "3.8.10"
  },
  "orig_nbformat": 4,
  "vscode": {
   "interpreter": {
    "hash": "892b1dbae191cb403baa4bf29e539705d2bb168fb9a756bde180b5b738f682b9"
   }
  }
 },
 "nbformat": 4,
 "nbformat_minor": 2
}
