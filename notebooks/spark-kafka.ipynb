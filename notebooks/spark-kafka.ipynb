{
 "cells": [
  {
   "cell_type": "code",
   "execution_count": 1,
   "id": "2e111d16-ba15-41fb-a7fe-ce8f8406efca",
   "metadata": {},
   "outputs": [],
   "source": [
    "import pyspark\n",
    "import findspark\n",
    "findspark.init()"
   ]
  },
  {
   "cell_type": "code",
   "execution_count": 2,
   "id": "0e0b7e8d-9fcb-45d4-b34d-266dcc3d722d",
   "metadata": {},
   "outputs": [
    {
     "name": "stdout",
     "output_type": "stream",
     "text": [
      "pyspark                             3.3.0\n"
     ]
    }
   ],
   "source": [
    "!pip list | grep pyspark"
   ]
  },
  {
   "cell_type": "code",
   "execution_count": 3,
   "id": "ca07a8d8-5bed-4c97-b5d2-11a3cd88ee34",
   "metadata": {},
   "outputs": [],
   "source": [
    "# sc.stop()\n",
    "brokers = ['b-1.batch6w7.6qsgnf.c19.kafka.us-east-1.amazonaws.com:9092','b-2.batch6w7.6qsgnf.c19.kafka.us-east-1.amazonaws.com:9092']"
   ]
  },
  {
   "cell_type": "code",
   "execution_count": null,
   "id": "054a221f-8716-4a58-9bbc-259517548880",
   "metadata": {},
   "outputs": [],
   "source": [
    "from pyspark.sql.functions import *\n",
    "from pyspark.sql.types import *\n",
    "#import library \n",
    "import os\n",
    "from pyspark.sql import SparkSession\n",
    "\n",
    "os.environ['PYSPARK_SUBMIT_ARGS'] = '--packages org.apache.spark:spark-sql-kafka-0-10_2.12:3.3.0 pyspark-shell'\n",
    "\n",
    "sc = SparkSession.builder.appName('Pyspark_kafka').getOrCreate()\n",
    "\n"
   ]
  },
  {
   "cell_type": "code",
   "execution_count": 28,
   "id": "038a17d2-d2e8-4335-8946-ba21bded48a0",
   "metadata": {},
   "outputs": [],
   "source": [
    "spark.stop()"
   ]
  },
  {
   "cell_type": "code",
   "execution_count": 29,
   "id": "94334bfd-8198-404e-aa52-0142f8519771",
   "metadata": {},
   "outputs": [],
   "source": [
    "\n",
    "spark = SparkSession.builder.appName(\"Spark Structured Streaming from Kafka\").getOrCreate()\n"
   ]
  },
  {
   "cell_type": "code",
   "execution_count": 8,
   "id": "41f96ec5-79f4-4593-bf5c-f1b59d847aa3",
   "metadata": {},
   "outputs": [],
   "source": [
    "df = sc \\\n",
    "    .read \\\n",
    "    .format(\"kafka\") \\\n",
    "    .option(\"kafka.bootstrap.servers\", brokers) \\\n",
    "    .option(\"subscribe\", \"g2-topics-test\") \\\n",
    "    .option(\"startingOffsets\",\"earliest\")\\\n",
    "    .load()"
   ]
  },
  {
   "cell_type": "code",
   "execution_count": 9,
   "id": "00c64dc0-f24b-4199-b28c-5c877dbb1e9d",
   "metadata": {},
   "outputs": [],
   "source": [
    "df = df.withColumn('key_str', df['key'].cast('string').alias('key_str')).drop(\n",
    "    'key').withColumn('value_str', df['value'].cast('string').alias('key_str')).drop('value')\n"
   ]
  },
  {
   "cell_type": "code",
   "execution_count": 11,
   "id": "49feeb23-3d90-4737-a531-dfd2eb60313f",
   "metadata": {},
   "outputs": [
    {
     "data": {
      "text/plain": [
       "['topic',\n",
       " 'partition',\n",
       " 'offset',\n",
       " 'timestamp',\n",
       " 'timestampType',\n",
       " 'key_str',\n",
       " 'value_str']"
      ]
     },
     "execution_count": 11,
     "metadata": {},
     "output_type": "execute_result"
    }
   ],
   "source": [
    "df.columns"
   ]
  },
  {
   "cell_type": "code",
   "execution_count": 17,
   "id": "87881291-bc13-425e-8ffd-ba072e9b8786",
   "metadata": {},
   "outputs": [
    {
     "name": "stdout",
     "output_type": "stream",
     "text": [
      "root\n",
      " |-- topic: string (nullable = true)\n",
      " |-- partition: integer (nullable = true)\n",
      " |-- offset: long (nullable = true)\n",
      " |-- timestamp: timestamp (nullable = true)\n",
      " |-- timestampType: integer (nullable = true)\n",
      " |-- key_str: string (nullable = true)\n",
      " |-- value_str: string (nullable = true)\n",
      "\n"
     ]
    }
   ],
   "source": [
    "df.printSchema()"
   ]
  },
  {
   "cell_type": "code",
   "execution_count": 25,
   "id": "e52582c7-1eb1-4ccb-b1d8-0b2ad0bbdda4",
   "metadata": {},
   "outputs": [],
   "source": [
    "words = df.select(explode(split(df.value_str, \" \")).alias(\"word\"))\n"
   ]
  }
 ],
 "metadata": {
  "kernelspec": {
   "display_name": "Python 3 (ipykernel)",
   "language": "python",
   "name": "python3"
  },
  "language_info": {
   "codemirror_mode": {
    "name": "ipython",
    "version": 3
   },
   "file_extension": ".py",
   "mimetype": "text/x-python",
   "name": "python",
   "nbconvert_exporter": "python",
   "pygments_lexer": "ipython3",
   "version": "3.9.12"
  }
 },
 "nbformat": 4,
 "nbformat_minor": 5
}
